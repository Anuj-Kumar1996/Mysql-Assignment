{
 "cells": [
  {
   "cell_type": "code",
   "execution_count": null,
   "id": "f42de6de-9e4f-4819-becc-f122ec9164df",
   "metadata": {},
   "outputs": [],
   "source": [
    "# Q1. What is a database? Differentiate between SQL and NoSQL databases.\n",
    "\n",
    "A database is a structured collection of data that can be accessed, managed, and updated.\n",
    "SQL Databases: Relational, table-based, use structured query language (SQL), and have a fixed schema. They are vertically scalable and ensure ACID properties (Atomicity, Consistency, Isolation, Durability). Examples: MySQL, PostgreSQL.\n",
    "NoSQL Databases: Non-relational, can be document-based, key-value pairs, graph databases, or wide-column stores. They have dynamic schemas and are horizontally scalable. They focus on CAP theorem (Consistency, Availability, Partition tolerance). Examples: MongoDB, Cassandra."
   ]
  },
  {
   "cell_type": "code",
   "execution_count": null,
   "id": "6b537ec1-f6fc-482e-8e75-6f55a57aa738",
   "metadata": {},
   "outputs": [],
   "source": [
    "Q2. What is DDL? Explain why CREATE, DROP, ALTER, and TRUNCATE are used with an example.\n",
    "DDL (Data Definition Language) is used to define and manage database structures.\n",
    "CREATE: Used to create databases and tables."
   ]
  },
  {
   "cell_type": "code",
   "execution_count": null,
   "id": "59051cb1-b55d-4234-9019-1d879e87d30a",
   "metadata": {},
   "outputs": [],
   "source": [
    "CREATE TABLE Students (ID int, Name varchar(255));\n",
    "# DROP: Deletes tables or databases.\n",
    "DROP TABLE Students;\n",
    "# ALTER: Modifies existing database objects.\n",
    "ALTER TABLE Students ADD Age int;\n",
    "# TRUNCATE: Removes all records from a table but keeps the structure.\n",
    "TRUNCATE TABLE Students;"
   ]
  },
  {
   "cell_type": "code",
   "execution_count": null,
   "id": "aecc4373-502a-43bb-b179-fe2ebbc4939e",
   "metadata": {},
   "outputs": [],
   "source": [
    "# What is DML? Explain INSERT, UPDATE, and DELETE with an example.\n",
    "DML (Data Manipulation Language) is used for managing data within schema objects.\n",
    "\n",
    "sql;INSERT INTO Students (ID, Name) VALUES (1, 'John');\n",
    "update:UPDATE Students SET Name = 'Jane' WHERE ID = 1;\n",
    "DELET:DELETE FROM Students WHERE ID = 1;"
   ]
  },
  {
   "cell_type": "code",
   "execution_count": null,
   "id": "d83a54a5-4422-4c1b-9125-860f8f96fe73",
   "metadata": {},
   "outputs": [],
   "source": [
    "Q4. What is DQL? Explain SELECT with an example.\n",
    "DQL (Data Query Language) is used to query the database to retrieve data.\n",
    "SELECT: Retrieves data from one or more tables."
   ]
  },
  {
   "cell_type": "code",
   "execution_count": null,
   "id": "5ee19fc2-accb-4446-85f9-536e3a21cbf0",
   "metadata": {},
   "outputs": [],
   "source": [
    "SELECT * FROM Students;"
   ]
  },
  {
   "cell_type": "code",
   "execution_count": null,
   "id": "e2bf3d9d-ed3e-4d47-919b-4e893a1e4091",
   "metadata": {},
   "outputs": [],
   "source": [
    "# Q5. Explain Primary Key and Foreign Key.\n",
    "Primary Key: A unique identifier for each record in a table. It must contain unique values and cannot be NULL.\n",
    "Foreign Key: A field (or collection of fields) in one table that uniquely identifies a row of another table. It creates a relationship between two tables."
   ]
  },
  {
   "cell_type": "code",
   "execution_count": null,
   "id": "bfcde71a-b712-45f0-b5df-5e42b70848cf",
   "metadata": {},
   "outputs": [],
   "source": [
    "Q6. Write a Python code to connect MySQL to Python. Explain the cursor() and execute() method."
   ]
  },
  {
   "cell_type": "code",
   "execution_count": 1,
   "id": "01e05724-99ac-4e0c-aed5-6ef7fe82bd6e",
   "metadata": {},
   "outputs": [
    {
     "ename": "ModuleNotFoundError",
     "evalue": "No module named 'mysql'",
     "output_type": "error",
     "traceback": [
      "\u001b[1;31m---------------------------------------------------------------------------\u001b[0m",
      "\u001b[1;31mModuleNotFoundError\u001b[0m                       Traceback (most recent call last)",
      "Cell \u001b[1;32mIn[1], line 1\u001b[0m\n\u001b[1;32m----> 1\u001b[0m \u001b[38;5;28;01mimport\u001b[39;00m \u001b[38;5;21;01mmysql\u001b[39;00m\u001b[38;5;21;01m.\u001b[39;00m\u001b[38;5;21;01mconnector\u001b[39;00m\n\u001b[0;32m      3\u001b[0m \u001b[38;5;66;03m# Connect to MySQL\u001b[39;00m\n\u001b[0;32m      4\u001b[0m connection \u001b[38;5;241m=\u001b[39m mysql\u001b[38;5;241m.\u001b[39mconnector\u001b[38;5;241m.\u001b[39mconnect(\n\u001b[0;32m      5\u001b[0m     host\u001b[38;5;241m=\u001b[39m\u001b[38;5;124m'\u001b[39m\u001b[38;5;124mlocalhost\u001b[39m\u001b[38;5;124m'\u001b[39m,\n\u001b[0;32m      6\u001b[0m     user\u001b[38;5;241m=\u001b[39m\u001b[38;5;124m'\u001b[39m\u001b[38;5;124mroot\u001b[39m\u001b[38;5;124m'\u001b[39m,\n\u001b[0;32m      7\u001b[0m     password\u001b[38;5;241m=\u001b[39m\u001b[38;5;124m'\u001b[39m\u001b[38;5;124mpassword\u001b[39m\u001b[38;5;124m'\u001b[39m,\n\u001b[0;32m      8\u001b[0m     database\u001b[38;5;241m=\u001b[39m\u001b[38;5;124m'\u001b[39m\u001b[38;5;124mtest_db\u001b[39m\u001b[38;5;124m'\u001b[39m\n\u001b[0;32m      9\u001b[0m )\n",
      "\u001b[1;31mModuleNotFoundError\u001b[0m: No module named 'mysql'"
     ]
    }
   ],
   "source": [
    "import mysql.connector\n",
    "\n",
    "# Connect to MySQL\n",
    "connection = mysql.connector.connect(\n",
    "    host='localhost',\n",
    "    user='root',\n",
    "    password='password',\n",
    "    database='test_db'\n",
    ")\n",
    "\n",
    "# Create a cursor object\n",
    "cursor = connection.cursor()\n",
    "\n",
    "# Execute a query\n",
    "cursor.execute(\"SELECT * FROM Students\")\n",
    "\n",
    "# Fetch results\n",
    "results = cursor.fetchall()\n",
    "for row in results:\n",
    "    print(row)\n",
    "\n",
    "# Close the connection\n",
    "connection.close()"
   ]
  },
  {
   "cell_type": "code",
   "execution_count": null,
   "id": "42ed8e17-253f-42a0-8cc3-fc9178fcf02f",
   "metadata": {},
   "outputs": [],
   "source": [
    "Q7. Give the order of execution of SQL clauses in an SQL query.\n",
    "FROM\n",
    "WHERE\n",
    "GROUP BY\n",
    "HAVING\n",
    "SELECT\n",
    "ORDER BY\n",
    "This order ensures that the data is filtered and grouped before selection and ordering are applied."
   ]
  }
 ],
 "metadata": {
  "kernelspec": {
   "display_name": "Python 3 (ipykernel)",
   "language": "python",
   "name": "python3"
  },
  "language_info": {
   "codemirror_mode": {
    "name": "ipython",
    "version": 3
   },
   "file_extension": ".py",
   "mimetype": "text/x-python",
   "name": "python",
   "nbconvert_exporter": "python",
   "pygments_lexer": "ipython3",
   "version": "3.12.4"
  }
 },
 "nbformat": 4,
 "nbformat_minor": 5
}
